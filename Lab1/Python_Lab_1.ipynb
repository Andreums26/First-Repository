{
 "cells": [
  {
   "cell_type": "markdown",
   "metadata": {},
   "source": [
    "# Laboratorio 1 Python\n",
    "\n",
    "## <a id='1.0'> 1.0 Types of variables  </a> \n"
   ]
  },
  {
   "cell_type": "code",
   "execution_count": 4,
   "metadata": {},
   "outputs": [
    {
     "data": {
      "text/plain": [
       "float"
      ]
     },
     "execution_count": 4,
     "metadata": {},
     "output_type": "execute_result"
    }
   ],
   "source": [
    "a1 = 3.141\n",
    "type(a1)"
   ]
  },
  {
   "cell_type": "code",
   "execution_count": 6,
   "metadata": {},
   "outputs": [
    {
     "data": {
      "text/plain": [
       "int"
      ]
     },
     "execution_count": 6,
     "metadata": {},
     "output_type": "execute_result"
    }
   ],
   "source": [
    "# from float to int \n",
    "\n",
    "c = int(a2)\n",
    "type(c)"
   ]
  },
  {
   "cell_type": "code",
   "execution_count": 7,
   "metadata": {
    "scrolled": true
   },
   "outputs": [
    {
     "data": {
      "text/plain": [
       "int"
      ]
     },
     "execution_count": 7,
     "metadata": {},
     "output_type": "execute_result"
    }
   ],
   "source": [
    "b1 = 10000\n",
    "type(b1)"
   ]
  },
  {
   "cell_type": "code",
   "execution_count": 9,
   "metadata": {},
   "outputs": [
    {
     "data": {
      "text/plain": [
       "10000.0"
      ]
     },
     "execution_count": 9,
     "metadata": {},
     "output_type": "execute_result"
    }
   ],
   "source": [
    "# from int to float \n",
    "\n",
    "float(b1)"
   ]
  },
  {
   "cell_type": "code",
   "execution_count": 10,
   "metadata": {},
   "outputs": [
    {
     "data": {
      "text/plain": [
       "int"
      ]
     },
     "execution_count": 10,
     "metadata": {},
     "output_type": "execute_result"
    }
   ],
   "source": [
    "b2 = 8\n",
    "type(b2)"
   ]
  },
  {
   "cell_type": "code",
   "execution_count": null,
   "metadata": {},
   "outputs": [],
   "source": [
    "# float es número con punto\n",
    "# Int es número entero\n",
    "# Para seleccionar varias líneas de código: Shift + teclado hacia abajo"
   ]
  },
  {
   "cell_type": "code",
   "execution_count": 14,
   "metadata": {
    "scrolled": true
   },
   "outputs": [
    {
     "name": "stdout",
     "output_type": "stream",
     "text": [
      "My first python code\n"
     ]
    },
    {
     "data": {
      "text/plain": [
       "str"
      ]
     },
     "execution_count": 14,
     "metadata": {},
     "output_type": "execute_result"
    }
   ],
   "source": [
    "c1 = 'My first python code'  # \"My first python code\" usando doble comilla\n",
    "print(c1)  # show that varaible's content\n",
    "type(c1) # providing varaibles's type "
   ]
  },
  {
   "cell_type": "code",
   "execution_count": 19,
   "metadata": {},
   "outputs": [
    {
     "name": "stdout",
     "output_type": "stream",
     "text": [
      "First python code \n",
      " at R y python Class\n"
     ]
    }
   ],
   "source": [
    "# including a space using \\n\n",
    "\n",
    "c1 = \"First python code\"\n",
    "c2 = \"at R y python Class\"\n",
    "print(c1,'\\n',c2)"
   ]
  },
  {
   "cell_type": "code",
   "execution_count": 20,
   "metadata": {},
   "outputs": [
    {
     "name": "stdout",
     "output_type": "stream",
     "text": [
      "First python code : at R y python Class\n"
     ]
    }
   ],
   "source": [
    "# join string \n",
    "\n",
    "print(c1 + \" : \" + c2)"
   ]
  },
  {
   "cell_type": "code",
   "execution_count": 25,
   "metadata": {},
   "outputs": [
    {
     "name": "stdout",
     "output_type": "stream",
     "text": [
      "First python code : semester 2022-1\n"
     ]
    }
   ],
   "source": [
    "# f-string\n",
    "\n",
    "print(f'{c1} : semester 2022-1')"
   ]
  },
  {
   "cell_type": "code",
   "execution_count": 21,
   "metadata": {},
   "outputs": [],
   "source": [
    "d = 2022"
   ]
  },
  {
   "cell_type": "code",
   "execution_count": 22,
   "metadata": {
    "scrolled": true
   },
   "outputs": [
    {
     "name": "stdout",
     "output_type": "stream",
     "text": [
      "First python code : semester 2022-1\n"
     ]
    }
   ],
   "source": [
    "print(f'{c1} : semester {d}-1')"
   ]
  },
  {
   "cell_type": "code",
   "execution_count": 23,
   "metadata": {},
   "outputs": [
    {
     "name": "stdout",
     "output_type": "stream",
     "text": [
      "First python code : semester 2022-1\n"
     ]
    }
   ],
   "source": [
    "print('{} : semester {}-1'.format(c1,d))"
   ]
  },
  {
   "cell_type": "code",
   "execution_count": 25,
   "metadata": {},
   "outputs": [
    {
     "data": {
      "text/plain": [
       "'First'"
      ]
     },
     "execution_count": 25,
     "metadata": {},
     "output_type": "execute_result"
    }
   ],
   "source": [
    "# Substr elements from string\n",
    "\n",
    "c1[0:5]"
   ]
  },
  {
   "cell_type": "code",
   "execution_count": 17,
   "metadata": {},
   "outputs": [
    {
     "name": "stdout",
     "output_type": "stream",
     "text": [
      "Fisrt letter is : F\n"
     ]
    }
   ],
   "source": [
    "#first character\n",
    "print('Fisrt letter is :',c1[0])"
   ]
  },
  {
   "cell_type": "code",
   "execution_count": 35,
   "metadata": {},
   "outputs": [
    {
     "name": "stdout",
     "output_type": "stream",
     "text": [
      "Fisrt word is : First\n"
     ]
    }
   ],
   "source": [
    "#first word\n",
    "print('Fisrt word is :',c1[0:5])"
   ]
  },
  {
   "cell_type": "markdown",
   "metadata": {},
   "source": [
    "## <a id='1.2'> 1.2 Boolean  </a> \n",
    "\n",
    "It’s used to represent the truth value of an expression."
   ]
  },
  {
   "cell_type": "code",
   "execution_count": 26,
   "metadata": {
    "scrolled": true
   },
   "outputs": [
    {
     "data": {
      "text/plain": [
       "True"
      ]
     },
     "execution_count": 26,
     "metadata": {},
     "output_type": "execute_result"
    }
   ],
   "source": [
    "\"a\" == \"a\""
   ]
  },
  {
   "cell_type": "code",
   "execution_count": 27,
   "metadata": {},
   "outputs": [
    {
     "data": {
      "text/plain": [
       "False"
      ]
     },
     "execution_count": 27,
     "metadata": {},
     "output_type": "execute_result"
    }
   ],
   "source": [
    "1 > 1"
   ]
  },
  {
   "cell_type": "code",
   "execution_count": 41,
   "metadata": {},
   "outputs": [
    {
     "data": {
      "text/plain": [
       "True"
      ]
     },
     "execution_count": 41,
     "metadata": {},
     "output_type": "execute_result"
    }
   ],
   "source": [
    "z1 = (1==1)\n",
    "z1 "
   ]
  },
  {
   "cell_type": "code",
   "execution_count": 43,
   "metadata": {},
   "outputs": [
    {
     "data": {
      "text/plain": [
       "1"
      ]
     },
     "execution_count": 43,
     "metadata": {},
     "output_type": "execute_result"
    }
   ],
   "source": [
    "int(z1)  # true is 1 in numerical system"
   ]
  },
  {
   "cell_type": "code",
   "execution_count": 28,
   "metadata": {},
   "outputs": [
    {
     "data": {
      "text/plain": [
       "0"
      ]
     },
     "execution_count": 28,
     "metadata": {},
     "output_type": "execute_result"
    }
   ],
   "source": [
    "z2 = (10 > 20) \n",
    "int(z2) # false is 0 in numerical system"
   ]
  },
  {
   "cell_type": "markdown",
   "metadata": {},
   "source": [
    "## <a id='1.3'> 1.3 Tuple  </a> \n",
    "\n",
    "It is an ordered and immutable Python object"
   ]
  },
  {
   "cell_type": "code",
   "execution_count": 11,
   "metadata": {},
   "outputs": [
    {
     "data": {
      "text/plain": [
       "1"
      ]
     },
     "execution_count": 11,
     "metadata": {},
     "output_type": "execute_result"
    }
   ],
   "source": [
    "T1 = (1,4,8,10,20,15,4,5,3,8)\n",
    "####  0,1,2,3,4,...\n",
    "# Usar corchete para ver la posición\n",
    "# Usar paréntesis para nombrar\n",
    "\n",
    "T1[0]"
   ]
  },
  {
   "cell_type": "code",
   "execution_count": 12,
   "metadata": {},
   "outputs": [
    {
     "name": "stdout",
     "output_type": "stream",
     "text": [
      "Suma: 78 \n",
      " Minimo: 1 \n",
      " Máximo: 20\n"
     ]
    }
   ],
   "source": [
    "# aritmethic operations\n",
    "\n",
    "print('Suma:', sum(T1),\"\\n\", \"Minimo:\", min(T1), '\\n', \"Máximo:\", max(T1))"
   ]
  },
  {
   "cell_type": "code",
   "execution_count": 53,
   "metadata": {},
   "outputs": [
    {
     "data": {
      "text/plain": [
       "10"
      ]
     },
     "execution_count": 53,
     "metadata": {},
     "output_type": "execute_result"
    }
   ],
   "source": [
    "len(T1) # lenght of tuple"
   ]
  },
  {
   "cell_type": "markdown",
   "metadata": {},
   "source": [
    "### Indexing Tuple"
   ]
  },
  {
   "cell_type": "code",
   "execution_count": 62,
   "metadata": {},
   "outputs": [
    {
     "data": {
      "text/plain": [
       "(1, 4, 8, 10, 20)"
      ]
     },
     "execution_count": 62,
     "metadata": {},
     "output_type": "execute_result"
    }
   ],
   "source": [
    "T1[0:5] # give us elements from 0 position until 4 position "
   ]
  },
  {
   "cell_type": "code",
   "execution_count": 30,
   "metadata": {},
   "outputs": [
    {
     "data": {
      "text/plain": [
       "4"
      ]
     },
     "execution_count": 30,
     "metadata": {},
     "output_type": "execute_result"
    }
   ],
   "source": [
    "T1[1] # get tuple's element "
   ]
  },
  {
   "cell_type": "code",
   "execution_count": 31,
   "metadata": {},
   "outputs": [
    {
     "data": {
      "text/plain": [
       "(1, 4, 8)"
      ]
     },
     "execution_count": 31,
     "metadata": {},
     "output_type": "execute_result"
    }
   ],
   "source": [
    "T1[0:3]\n"
   ]
  },
  {
   "cell_type": "code",
   "execution_count": 13,
   "metadata": {},
   "outputs": [
    {
     "ename": "TypeError",
     "evalue": "'tuple' object does not support item assignment",
     "output_type": "error",
     "traceback": [
      "\u001b[0;31m---------------------------------------------------------------------------\u001b[0m",
      "\u001b[0;31mTypeError\u001b[0m                                 Traceback (most recent call last)",
      "Input \u001b[0;32mIn [13]\u001b[0m, in \u001b[0;36m<cell line: 2>\u001b[0;34m()\u001b[0m\n\u001b[1;32m      1\u001b[0m \u001b[38;5;66;03m# It is not possible to change\u001b[39;00m\n\u001b[0;32m----> 2\u001b[0m T1[\u001b[38;5;241m0\u001b[39m] \u001b[38;5;241m=\u001b[39m \u001b[38;5;241m4\u001b[39m\n",
      "\u001b[0;31mTypeError\u001b[0m: 'tuple' object does not support item assignment"
     ]
    }
   ],
   "source": [
    "# It is not possible to change\n",
    "T1[0] = 4"
   ]
  },
  {
   "cell_type": "code",
   "execution_count": 14,
   "metadata": {},
   "outputs": [
    {
     "data": {
      "text/plain": [
       "8"
      ]
     },
     "execution_count": 14,
     "metadata": {},
     "output_type": "execute_result"
    }
   ],
   "source": [
    "T1[-1]"
   ]
  },
  {
   "cell_type": "code",
   "execution_count": 16,
   "metadata": {},
   "outputs": [
    {
     "data": {
      "text/plain": [
       "2"
      ]
     },
     "execution_count": 16,
     "metadata": {},
     "output_type": "execute_result"
    }
   ],
   "source": [
    "#position\n",
    "T1.index(8)"
   ]
  },
  {
   "cell_type": "markdown",
   "metadata": {},
   "source": [
    "## <a id='1.4'> 1.4 List  </a> \n",
    "\n",
    "#### It is an ordered and mutable Python container."
   ]
  },
  {
   "cell_type": "code",
   "execution_count": 17,
   "metadata": {},
   "outputs": [
    {
     "name": "stdout",
     "output_type": "stream",
     "text": [
      "[]\n"
     ]
    },
    {
     "data": {
      "text/plain": [
       "list"
      ]
     },
     "execution_count": 17,
     "metadata": {},
     "output_type": "execute_result"
    }
   ],
   "source": [
    "L1 = []\n",
    "print(L1)\n",
    "type(L1)"
   ]
  },
  {
   "cell_type": "code",
   "execution_count": 18,
   "metadata": {},
   "outputs": [
    {
     "data": {
      "text/plain": [
       "['ATE', 'BARRANCO', 'BREÑA', 'CALLAO', 'CARABAYLLO']"
      ]
     },
     "execution_count": 18,
     "metadata": {},
     "output_type": "execute_result"
    }
   ],
   "source": [
    "dis1 = [\"ATE\", 'BARRANCO','BREÑA', 'CALLAO', 'CARABAYLLO']\n",
    "dis1"
   ]
  },
  {
   "cell_type": "code",
   "execution_count": 19,
   "metadata": {},
   "outputs": [],
   "source": [
    "dis2 = ['ATE', 'BARRANCO','BREÑA', 'CALLAO', 'CARABAYLLO','CHACLACAYO','CHORRILLOS','CIENEGUILLA'\n",
    "        ,'COMAS','EL_AGUSTINO','INDEPENDENCIA']"
   ]
  },
  {
   "cell_type": "code",
   "execution_count": 33,
   "metadata": {},
   "outputs": [
    {
     "data": {
      "text/plain": [
       "11"
      ]
     },
     "execution_count": 33,
     "metadata": {},
     "output_type": "execute_result"
    }
   ],
   "source": [
    "len(dis2)"
   ]
  },
  {
   "cell_type": "code",
   "execution_count": 20,
   "metadata": {
    "scrolled": false
   },
   "outputs": [
    {
     "name": "stdout",
     "output_type": "stream",
     "text": [
      "['CALLAO', 'BARRANCO', 'BREÑA', 'CALLAO', 'CARABAYLLO', 'CHACLACAYO', 'CHORRILLOS', 'CIENEGUILLA', 'COMAS', 'EL_AGUSTINO', 'INDEPENDENCIA']\n"
     ]
    }
   ],
   "source": [
    "dis2[0] = \"CALLAO\"\n",
    "print(dis2)"
   ]
  },
  {
   "cell_type": "code",
   "execution_count": 21,
   "metadata": {},
   "outputs": [
    {
     "data": {
      "text/plain": [
       "'BARRANCO'"
      ]
     },
     "execution_count": 21,
     "metadata": {},
     "output_type": "execute_result"
    }
   ],
   "source": [
    "# Idenxing\n",
    "\n",
    "dis2[1]"
   ]
  },
  {
   "cell_type": "code",
   "execution_count": 22,
   "metadata": {},
   "outputs": [
    {
     "data": {
      "text/plain": [
       "['BREÑA', 'CALLAO', 'CARABAYLLO']"
      ]
     },
     "execution_count": 22,
     "metadata": {},
     "output_type": "execute_result"
    }
   ],
   "source": [
    "dis2[2:5]   # (5-1=4)"
   ]
  },
  {
   "cell_type": "code",
   "execution_count": 83,
   "metadata": {},
   "outputs": [
    {
     "data": {
      "text/plain": [
       "['CALLAO', 'CARABAYLLO', 'CHACLACAYO', 'CHORRILLOS']"
      ]
     },
     "execution_count": 83,
     "metadata": {},
     "output_type": "execute_result"
    }
   ],
   "source": [
    "dis2[3:7]"
   ]
  },
  {
   "cell_type": "code",
   "execution_count": 23,
   "metadata": {},
   "outputs": [
    {
     "data": {
      "text/plain": [
       "['CHORRILLOS', 'CIENEGUILLA', 'COMAS', 'EL_AGUSTINO']"
      ]
     },
     "execution_count": 23,
     "metadata": {},
     "output_type": "execute_result"
    }
   ],
   "source": [
    "dis2[-5:-1]"
   ]
  },
  {
   "cell_type": "code",
   "execution_count": 24,
   "metadata": {},
   "outputs": [
    {
     "name": "stdout",
     "output_type": "stream",
     "text": [
      "[1, 5, 5, 5, 8, 8, 9, 10, 13, 13, 20]\n"
     ]
    }
   ],
   "source": [
    "num = [13,5,5,8,9,10,5,8,13,1,20]\n",
    "num.sort()\n",
    "print(num)"
   ]
  },
  {
   "cell_type": "code",
   "execution_count": 25,
   "metadata": {},
   "outputs": [
    {
     "name": "stdout",
     "output_type": "stream",
     "text": [
      "[1, 5, 5, 5, 8, 8, 9, 10, 13, 13, 20, 102]\n"
     ]
    }
   ],
   "source": [
    "# append new elements \n",
    "# agregar nuevos elementos\n",
    "\n",
    "num.append(102)\n",
    "print(num)"
   ]
  },
  {
   "cell_type": "code",
   "execution_count": 26,
   "metadata": {},
   "outputs": [
    {
     "name": "stdout",
     "output_type": "stream",
     "text": [
      "[1, 5, 5, 5, 8, 8, 9, 10, 13, 13, 20, 102, 10, 20, 30]\n"
     ]
    }
   ],
   "source": [
    "# append new list\n",
    "# con extend agregamos una nueva lista\n",
    "\n",
    "num2 = [10,20,30]\n",
    "num.extend(num2)\n",
    "print(num)"
   ]
  },
  {
   "cell_type": "code",
   "execution_count": 28,
   "metadata": {},
   "outputs": [
    {
     "name": "stdout",
     "output_type": "stream",
     "text": [
      "11\n"
     ]
    }
   ],
   "source": [
    "print(num.index(102))\n",
    "# ver la posición del número en la lista"
   ]
  },
  {
   "cell_type": "code",
   "execution_count": 29,
   "metadata": {
    "scrolled": true
   },
   "outputs": [
    {
     "name": "stdout",
     "output_type": "stream",
     "text": [
      "Suma: 259 \n",
      " Minimo: 1 \n",
      " Máximo: 102\n"
     ]
    }
   ],
   "source": [
    "print(\"Suma:\", sum(num),'\\n', \"Minimo:\", min(num), '\\n', \"Máximo:\", max(num))"
   ]
  },
  {
   "cell_type": "markdown",
   "metadata": {},
   "source": [
    "## <a id='1.5'> 1.5 Diccionario  </a> \n"
   ]
  },
  {
   "cell_type": "code",
   "execution_count": 36,
   "metadata": {},
   "outputs": [
    {
     "data": {
      "text/plain": [
       "dict"
      ]
     },
     "execution_count": 36,
     "metadata": {},
     "output_type": "execute_result"
    }
   ],
   "source": [
    "Postal_code = {'Majes': 40520, 'Mollendo': 40701, 'Islay': 40704, 'Cotahuasi': 40801, 'Alca': 40802 }\n",
    "\n",
    "type(Postal_code)\n",
    "\n",
    "# con diccionarios defines conceptos"
   ]
  },
  {
   "cell_type": "code",
   "execution_count": 94,
   "metadata": {},
   "outputs": [
    {
     "data": {
      "text/plain": [
       "{'Majes': 40520,\n",
       " 'Mollendo': 40701,\n",
       " 'Islay': 40704,\n",
       " 'Cotahuasi': 40801,\n",
       " 'Alca': 40802}"
      ]
     },
     "execution_count": 94,
     "metadata": {},
     "output_type": "execute_result"
    }
   ],
   "source": [
    "Postal_code"
   ]
  },
  {
   "cell_type": "code",
   "execution_count": 53,
   "metadata": {},
   "outputs": [
    {
     "data": {
      "text/plain": [
       "dict_keys(['Majes', 'Mollendo', 'Islay', 'Cotahuasi', 'Alca'])"
      ]
     },
     "execution_count": 53,
     "metadata": {},
     "output_type": "execute_result"
    }
   ],
   "source": [
    "Postal_code.keys()"
   ]
  },
  {
   "cell_type": "code",
   "execution_count": 55,
   "metadata": {},
   "outputs": [
    {
     "data": {
      "text/plain": [
       "40802"
      ]
     },
     "execution_count": 55,
     "metadata": {},
     "output_type": "execute_result"
    }
   ],
   "source": [
    "# Get information from key\n",
    "Postal_code['Alca']"
   ]
  },
  {
   "cell_type": "code",
   "execution_count": 54,
   "metadata": {},
   "outputs": [
    {
     "data": {
      "text/plain": [
       "40802"
      ]
     },
     "execution_count": 54,
     "metadata": {},
     "output_type": "execute_result"
    }
   ],
   "source": [
    "# Get information from key\n",
    "Postal_code.get('Alca')"
   ]
  },
  {
   "cell_type": "code",
   "execution_count": 101,
   "metadata": {},
   "outputs": [
    {
     "data": {
      "text/plain": [
       "{'Majes': 40520, 'Mollendo': 40701, 'Cotahuasi': 40801, 'Alca': 40802}"
      ]
     },
     "execution_count": 101,
     "metadata": {},
     "output_type": "execute_result"
    }
   ],
   "source": [
    "# Drop key\n",
    "Postal_code.pop('Islay')\n",
    "Postal_code"
   ]
  },
  {
   "cell_type": "code",
   "execution_count": 59,
   "metadata": {},
   "outputs": [],
   "source": [
    "# add new elements \n",
    "\n",
    "Postal_code.update( { \"CHARCANA\" :  40803 } )\n",
    "\n",
    "#diccioanrio dentro de otro diccionario\n",
    "Postal_code.update( {\"LOMAS\": {\"UBIGEO\": 40311, \"Poverty Rate\" : \"18.2%\", \"Population\" : \"20 mil\"}})\n"
   ]
  },
  {
   "cell_type": "code",
   "execution_count": 60,
   "metadata": {},
   "outputs": [
    {
     "data": {
      "text/plain": [
       "{'Majes': 40520,\n",
       " 'Mollendo': 40701,\n",
       " 'Islay': 40704,\n",
       " 'Cotahuasi': 40801,\n",
       " 'Alca': 40802,\n",
       " 'CHARCANA': 40803,\n",
       " 'LOMAS': {'UBIGEO': 40311, 'Poverty Rate': '18.2%', 'Population': '20 mil'}}"
      ]
     },
     "execution_count": 60,
     "metadata": {},
     "output_type": "execute_result"
    }
   ],
   "source": [
    "Postal_code"
   ]
  },
  {
   "cell_type": "code",
   "execution_count": 61,
   "metadata": {},
   "outputs": [
    {
     "data": {
      "text/plain": [
       "'18.2%'"
      ]
     },
     "execution_count": 61,
     "metadata": {},
     "output_type": "execute_result"
    }
   ],
   "source": [
    "Postal_code.get('LOMAS').get('Poverty Rate')"
   ]
  },
  {
   "cell_type": "code",
   "execution_count": 62,
   "metadata": {},
   "outputs": [
    {
     "data": {
      "text/plain": [
       "'18.2%'"
      ]
     },
     "execution_count": 62,
     "metadata": {},
     "output_type": "execute_result"
    }
   ],
   "source": [
    "Postal_code['LOMAS']['Poverty Rate']"
   ]
  },
  {
   "cell_type": "code",
   "execution_count": 62,
   "metadata": {},
   "outputs": [],
   "source": [
    "# keys\n",
    "cities = ['Fray Martin','Santa Rosa de Puquio','Cuchicorral','Santiago de Punchauca','La Cruz (11 Amigos)','Cerro Cañon','Cabaña Suche','San Lorenzo','Jose Carlos Mariategui','Pascal','La Esperanza','Fundo Pancha Paula','Olfa','Rio Seco','Paraiso','El Rosario','Cerro Puquio','La Campana','Las Animas','Vetancio','Roma Alta','San Jose','San Pedro de Carabayllo','Huacoy','Fundo Pampa Libre','Ex Fundo Santa Ines','Reposo','Carmelito','Santa Elena','Don Luis','Santa Ines Parcela','Asociacion Santa Ines','Roma Baja','Residencial Santa Lucia','San Francisco','Santa Margarita - Molinos','Sipan Peru','Fundo Cuadros','Bello Horizonte','El Hueco','Ex Fundo Mariategui','Naranjito','Vista Hermosa','El Sabroso de Jose Carlos Mariategui','Granja Carabayllo','Agropecuario Valle el Chillon','Camino Real','Copacabana','El Trebol','Tablada la Virgen','San Fernando de Carabayllo','San Fernando de Copacabana','La Manzana','Chacra Grande','Torres de Copacabana','San Pedro de Carabayllo','San Lorenzo','Chaclacayo','Chorrillos','Cieneguilla','Lindero','Pichicato','San Isidro','San Vicente','Piedra Liza','Santa Rosa de Chontay (Chontay)','La Libertad','El Agustino','Independencia','Jesus Maria','La Molina','La Victoria','Lince','Las Palmeras','Chosica','Lurin','Los Almacigos','Rinconada del Puruhuay','Fundo Santa Genoveva','Los Maderos','Casco Viejo','Vista Alegre','Buena Vista Alta','Lomas Pucara','Fundo la Querencia','Magdalena del Mar','Pueblo Libre','Miraflores','Pachacamac','Puente Manchay','Tambo Inga','Pampa Flores','Manchay Alto Lote B','Invasion Cementerio','Manchay Bajo','Santa Rosa de Mal Paso','Cardal','Jatosisa','Tomina','Pucusana','Honda','Quipa','Los Pelicanos','Playa Puerto Bello','Ñaves','Granja Santa Elena','Alvatroz II','Poseidon - Lobo Varado','Playa Minka Mar','Playa Acantilado','Puente Piedra','Punta Hermosa','Capilla Lucumo','Cucuya','Pampapacta','Avicola San Cirilo de Loma Negra - 03','Avicola San Cirilo de Loma Negra - 02','Avicola San Cirilo de Loma Negra - 01','Pampa Mamay','Cerro Botija','Agricultores y Ganaderos','Pampa Malanche Avicola Puma','Punta Negra','Chancheria','Rimac','San Bartolo','Plantel 41','Granja 4','Granja 5','Granja 07','Granja 44','Granja 47','Santa Maria I','Las Torres Santa Fe','San Francisco de Borja','San Isidro','San Juan de Lurigancho','Ciudad de Dios','San Luis','Barrio Obrero Industrial','San Miguel','Santa Anita - los Ficus','Santa Maria del Mar','Don Bruno','Santa Rosa','Santiago de Surco','Surquillo','Villa el Salvador','Villa Maria del Triunfo', 'Pueblo libre']\n",
    "# values\n",
    "postal_code1 = [15001,15003,15004,15006,15018,15019,15046,15072,15079,15081,15082,15083,15088,15123,15004,15011,15012,15019,15022,15023,15026,15476,15479,15483,15487,15491,15494,15498,15047,15049,15063,15082,15083,15121,15122,15313,15316,15318,15319,15320,15321,15324,15320,15320,15320,15320,15320,15320,15121,15320,15320,15121,15320,15320,15121,15121,15122,15122,15121,15121,15121,15320,15320,15320,15320,15320,15320,15121,15121,15121,15320,15121,15319,15121,15121,15121,15320,15320,15121,15121,15121,15121,15320,15320,15320,15122,15122,15122,15122,15122,15122,15122,15122,15121,15121,15122,15122,15121,15121,15122,15122,15121,15122,15122,15122,15472,15476,15054,15056,15057,15058,15063,15064,15066,15067,15593,15594,15593,15593,15593,15593,15593,15593,15593,15311,15312,15313,15314,15316,15324,15326,15327,15328,15332,15003,15004,15006,15007,15008,15009,15011,15018,15022,15311,15328,15331,15332,15333,15046, 15001]"
   ]
  },
  {
   "cell_type": "code",
   "execution_count": 63,
   "metadata": {},
   "outputs": [],
   "source": [
    "# Return a dictionarie\n",
    "ct_pc = dict( zip( cities , postal_code1) )"
   ]
  },
  {
   "cell_type": "code",
   "execution_count": 64,
   "metadata": {
    "scrolled": true
   },
   "outputs": [
    {
     "data": {
      "text/plain": [
       "{'Fray Martin': 15001,\n",
       " 'Santa Rosa de Puquio': 15003,\n",
       " 'Cuchicorral': 15004,\n",
       " 'Santiago de Punchauca': 15006,\n",
       " 'La Cruz (11 Amigos)': 15018,\n",
       " 'Cerro Cañon': 15019,\n",
       " 'Cabaña Suche': 15046,\n",
       " 'San Lorenzo': 15122,\n",
       " 'Jose Carlos Mariategui': 15079,\n",
       " 'Pascal': 15081,\n",
       " 'La Esperanza': 15082,\n",
       " 'Fundo Pancha Paula': 15083,\n",
       " 'Olfa': 15088,\n",
       " 'Rio Seco': 15123,\n",
       " 'Paraiso': 15004,\n",
       " 'El Rosario': 15011,\n",
       " 'Cerro Puquio': 15012,\n",
       " 'La Campana': 15019,\n",
       " 'Las Animas': 15022,\n",
       " 'Vetancio': 15023,\n",
       " 'Roma Alta': 15026,\n",
       " 'San Jose': 15476,\n",
       " 'San Pedro de Carabayllo': 15121,\n",
       " 'Huacoy': 15483,\n",
       " 'Fundo Pampa Libre': 15487,\n",
       " 'Ex Fundo Santa Ines': 15491,\n",
       " 'Reposo': 15494,\n",
       " 'Carmelito': 15498,\n",
       " 'Santa Elena': 15047,\n",
       " 'Don Luis': 15049,\n",
       " 'Santa Ines Parcela': 15063,\n",
       " 'Asociacion Santa Ines': 15082,\n",
       " 'Roma Baja': 15083,\n",
       " 'Residencial Santa Lucia': 15121,\n",
       " 'San Francisco': 15122,\n",
       " 'Santa Margarita - Molinos': 15313,\n",
       " 'Sipan Peru': 15316,\n",
       " 'Fundo Cuadros': 15318,\n",
       " 'Bello Horizonte': 15319,\n",
       " 'El Hueco': 15320,\n",
       " 'Ex Fundo Mariategui': 15321,\n",
       " 'Naranjito': 15324,\n",
       " 'Vista Hermosa': 15320,\n",
       " 'El Sabroso de Jose Carlos Mariategui': 15320,\n",
       " 'Granja Carabayllo': 15320,\n",
       " 'Agropecuario Valle el Chillon': 15320,\n",
       " 'Camino Real': 15320,\n",
       " 'Copacabana': 15320,\n",
       " 'El Trebol': 15121,\n",
       " 'Tablada la Virgen': 15320,\n",
       " 'San Fernando de Carabayllo': 15320,\n",
       " 'San Fernando de Copacabana': 15121,\n",
       " 'La Manzana': 15320,\n",
       " 'Chacra Grande': 15320,\n",
       " 'Torres de Copacabana': 15121,\n",
       " 'Chaclacayo': 15122,\n",
       " 'Chorrillos': 15121,\n",
       " 'Cieneguilla': 15121,\n",
       " 'Lindero': 15121,\n",
       " 'Pichicato': 15320,\n",
       " 'San Isidro': 15004,\n",
       " 'San Vicente': 15320,\n",
       " 'Piedra Liza': 15320,\n",
       " 'Santa Rosa de Chontay (Chontay)': 15320,\n",
       " 'La Libertad': 15320,\n",
       " 'El Agustino': 15121,\n",
       " 'Independencia': 15121,\n",
       " 'Jesus Maria': 15121,\n",
       " 'La Molina': 15320,\n",
       " 'La Victoria': 15121,\n",
       " 'Lince': 15319,\n",
       " 'Las Palmeras': 15121,\n",
       " 'Chosica': 15121,\n",
       " 'Lurin': 15121,\n",
       " 'Los Almacigos': 15320,\n",
       " 'Rinconada del Puruhuay': 15320,\n",
       " 'Fundo Santa Genoveva': 15121,\n",
       " 'Los Maderos': 15121,\n",
       " 'Casco Viejo': 15121,\n",
       " 'Vista Alegre': 15121,\n",
       " 'Buena Vista Alta': 15320,\n",
       " 'Lomas Pucara': 15320,\n",
       " 'Fundo la Querencia': 15320,\n",
       " 'Magdalena del Mar': 15122,\n",
       " 'Pueblo Libre': 15122,\n",
       " 'Miraflores': 15122,\n",
       " 'Pachacamac': 15122,\n",
       " 'Puente Manchay': 15122,\n",
       " 'Tambo Inga': 15122,\n",
       " 'Pampa Flores': 15122,\n",
       " 'Manchay Alto Lote B': 15122,\n",
       " 'Invasion Cementerio': 15121,\n",
       " 'Manchay Bajo': 15121,\n",
       " 'Santa Rosa de Mal Paso': 15122,\n",
       " 'Cardal': 15122,\n",
       " 'Jatosisa': 15121,\n",
       " 'Tomina': 15121,\n",
       " 'Pucusana': 15122,\n",
       " 'Honda': 15122,\n",
       " 'Quipa': 15121,\n",
       " 'Los Pelicanos': 15122,\n",
       " 'Playa Puerto Bello': 15122,\n",
       " 'Ñaves': 15122,\n",
       " 'Granja Santa Elena': 15472,\n",
       " 'Alvatroz II': 15476,\n",
       " 'Poseidon - Lobo Varado': 15054,\n",
       " 'Playa Minka Mar': 15056,\n",
       " 'Playa Acantilado': 15057,\n",
       " 'Puente Piedra': 15058,\n",
       " 'Punta Hermosa': 15063,\n",
       " 'Capilla Lucumo': 15064,\n",
       " 'Cucuya': 15066,\n",
       " 'Pampapacta': 15067,\n",
       " 'Avicola San Cirilo de Loma Negra - 03': 15593,\n",
       " 'Avicola San Cirilo de Loma Negra - 02': 15594,\n",
       " 'Avicola San Cirilo de Loma Negra - 01': 15593,\n",
       " 'Pampa Mamay': 15593,\n",
       " 'Cerro Botija': 15593,\n",
       " 'Agricultores y Ganaderos': 15593,\n",
       " 'Pampa Malanche Avicola Puma': 15593,\n",
       " 'Punta Negra': 15593,\n",
       " 'Chancheria': 15593,\n",
       " 'Rimac': 15311,\n",
       " 'San Bartolo': 15312,\n",
       " 'Plantel 41': 15313,\n",
       " 'Granja 4': 15314,\n",
       " 'Granja 5': 15316,\n",
       " 'Granja 07': 15324,\n",
       " 'Granja 44': 15326,\n",
       " 'Granja 47': 15327,\n",
       " 'Santa Maria I': 15328,\n",
       " 'Las Torres Santa Fe': 15332,\n",
       " 'San Francisco de Borja': 15003,\n",
       " 'San Juan de Lurigancho': 15006,\n",
       " 'Ciudad de Dios': 15007,\n",
       " 'San Luis': 15008,\n",
       " 'Barrio Obrero Industrial': 15009,\n",
       " 'San Miguel': 15011,\n",
       " 'Santa Anita - los Ficus': 15018,\n",
       " 'Santa Maria del Mar': 15022,\n",
       " 'Don Bruno': 15311,\n",
       " 'Santa Rosa': 15328,\n",
       " 'Santiago de Surco': 15331,\n",
       " 'Surquillo': 15332,\n",
       " 'Villa el Salvador': 15333,\n",
       " 'Villa Maria del Triunfo': 15046,\n",
       " 'Pueblo libre': 15001}"
      ]
     },
     "execution_count": 64,
     "metadata": {},
     "output_type": "execute_result"
    }
   ],
   "source": [
    "ct_pc"
   ]
  },
  {
   "cell_type": "markdown",
   "metadata": {},
   "source": [
    "## <a id='1.6'> 1.6 Arrays and Matrix  </a> \n"
   ]
  },
  {
   "cell_type": "code",
   "execution_count": 38,
   "metadata": {},
   "outputs": [],
   "source": [
    "import numpy as np\n",
    "\n",
    "# A library is a collection of modules or a single module. Libraries are the tools we will use to make our program."
   ]
  },
  {
   "cell_type": "code",
   "execution_count": 39,
   "metadata": {},
   "outputs": [
    {
     "name": "stdout",
     "output_type": "stream",
     "text": [
      "[1 2 3 4 5]\n"
     ]
    }
   ],
   "source": [
    "# 1D array (vector)\n",
    "a = np.array( [1, 2, 3, 4, 5] )\n",
    "print(a)"
   ]
  },
  {
   "cell_type": "code",
   "execution_count": 40,
   "metadata": {},
   "outputs": [
    {
     "data": {
      "text/plain": [
       "numpy.ndarray"
      ]
     },
     "execution_count": 40,
     "metadata": {},
     "output_type": "execute_result"
    }
   ],
   "source": [
    "type(a)"
   ]
  },
  {
   "cell_type": "code",
   "execution_count": 70,
   "metadata": {
    "scrolled": true
   },
   "outputs": [
    {
     "data": {
      "text/plain": [
       "3.0"
      ]
     },
     "execution_count": 70,
     "metadata": {},
     "output_type": "execute_result"
    }
   ],
   "source": [
    "np.mean(a)"
   ]
  },
  {
   "cell_type": "markdown",
   "metadata": {},
   "source": [
    "Standar deviation in Python by default\n",
    "\n",
    "\\begin{equation}\n",
    " sd(x) = \\sqrt{\\frac{\\sum(x_i-\\bar{x})^2}{N}}\n",
    "\\end{equation}"
   ]
  },
  {
   "cell_type": "code",
   "execution_count": 71,
   "metadata": {},
   "outputs": [
    {
     "data": {
      "text/plain": [
       "1.4142135623730951"
      ]
     },
     "execution_count": 71,
     "metadata": {},
     "output_type": "execute_result"
    }
   ],
   "source": [
    "np.std(a)"
   ]
  },
  {
   "cell_type": "markdown",
   "metadata": {},
   "source": [
    "Standar deviation in Python by default\n",
    "\n",
    "\\begin{equation}\n",
    " sd(x) = \\sqrt{\\frac{\\sum(x_i-\\bar{x})^2}{N-1}}\n",
    "\\end{equation}"
   ]
  },
  {
   "cell_type": "code",
   "execution_count": 72,
   "metadata": {},
   "outputs": [
    {
     "data": {
      "text/plain": [
       "1.5811388300841898"
      ]
     },
     "execution_count": 72,
     "metadata": {},
     "output_type": "execute_result"
    }
   ],
   "source": [
    "np.std(a,ddof=1)"
   ]
  },
  {
   "cell_type": "code",
   "execution_count": 73,
   "metadata": {},
   "outputs": [
    {
     "name": "stdout",
     "output_type": "stream",
     "text": [
      "[[1 2 3]\n",
      " [4 5 6]]\n"
     ]
    }
   ],
   "source": [
    "# 2D array\n",
    "M = np.array( [ [1, 2, 3], [4, 5, 6] ] )\n",
    "\n",
    "print(M)"
   ]
  },
  {
   "cell_type": "code",
   "execution_count": 77,
   "metadata": {},
   "outputs": [
    {
     "data": {
      "text/plain": [
       "(2, 3)"
      ]
     },
     "execution_count": 77,
     "metadata": {},
     "output_type": "execute_result"
    }
   ],
   "source": [
    "# dimensiones\n",
    "\n",
    "M.shape"
   ]
  },
  {
   "cell_type": "code",
   "execution_count": 78,
   "metadata": {},
   "outputs": [
    {
     "name": "stdout",
     "output_type": "stream",
     "text": [
      "Rows: 2 \n",
      " Columns:  3\n"
     ]
    }
   ],
   "source": [
    "print(\"Rows:\",M.shape[0],\"\\n\", \"Columns: \", M.shape[1])\n"
   ]
  },
  {
   "cell_type": "code",
   "execution_count": 79,
   "metadata": {},
   "outputs": [
    {
     "name": "stdout",
     "output_type": "stream",
     "text": [
      "[ 0  2  4  6  8 10 12 14 16 18]\n"
     ]
    }
   ],
   "source": [
    "# Create a 1D NumPy array with values from 0 to 20 (exclusively) incremented by 2:\n",
    "y = np.arange( 0, 20, 2 )\n",
    "print(y)"
   ]
  },
  {
   "cell_type": "code",
   "execution_count": 48,
   "metadata": {},
   "outputs": [
    {
     "name": "stdout",
     "output_type": "stream",
     "text": [
      "[ 1  2  3  4  5  6  7  8  9 10]\n"
     ]
    },
    {
     "data": {
      "text/plain": [
       "[0, 1, 2, 3, 4, 5, 6, 7, 8, 9, 10]"
      ]
     },
     "execution_count": 48,
     "metadata": {},
     "output_type": "execute_result"
    }
   ],
   "source": [
    "# deafult one by one \n",
    "\n",
    "y = np.arange( 1, 11)\n",
    "\n",
    "print(y)\n",
    "\n",
    "list(range(11))"
   ]
  },
  {
   "cell_type": "code",
   "execution_count": null,
   "metadata": {},
   "outputs": [],
   "source": [
    "# rep() equivalent in python\n",
    "\n",
    "np.repeat(2, 4)\n",
    "np.repeat(range(11), 4)\n",
    "\n",
    "np.tile(np.array([1,2]), 4)\n",
    "np.tile(range(11),5)\n",
    "\n",
    "# split array\n",
    "\n",
    "np.array_split(np.arange( 100, 1000),50)"
   ]
  },
  {
   "cell_type": "markdown",
   "metadata": {},
   "source": [
    "### Matrix"
   ]
  },
  {
   "cell_type": "code",
   "execution_count": 49,
   "metadata": {},
   "outputs": [],
   "source": [
    "A = np.array([np.arange(0,10), np.arange(10,20), np.arange(30,40), np.arange(-20,-10), np.arange(2,21,2)])"
   ]
  },
  {
   "cell_type": "code",
   "execution_count": 50,
   "metadata": {},
   "outputs": [
    {
     "data": {
      "text/plain": [
       "array([[  0,   1,   2,   3,   4,   5,   6,   7,   8,   9],\n",
       "       [ 10,  11,  12,  13,  14,  15,  16,  17,  18,  19],\n",
       "       [ 30,  31,  32,  33,  34,  35,  36,  37,  38,  39],\n",
       "       [-20, -19, -18, -17, -16, -15, -14, -13, -12, -11],\n",
       "       [  2,   4,   6,   8,  10,  12,  14,  16,  18,  20]])"
      ]
     },
     "execution_count": 50,
     "metadata": {},
     "output_type": "execute_result"
    }
   ],
   "source": [
    "A"
   ]
  },
  {
   "cell_type": "code",
   "execution_count": 53,
   "metadata": {},
   "outputs": [
    {
     "data": {
      "text/plain": [
       "array([[ 30,  31,  32,  33,  34,  35,  36,  37,  38,  39],\n",
       "       [-20, -19, -18, -17, -16, -15, -14, -13, -12, -11],\n",
       "       [  2,   4,   6,   8,  10,  12,  14,  16,  18,  20]])"
      ]
     },
     "execution_count": 53,
     "metadata": {},
     "output_type": "execute_result"
    }
   ],
   "source": [
    "A[2:5,:]  # rows selection\n",
    "\n",
    "# Seleccionar filas"
   ]
  },
  {
   "cell_type": "code",
   "execution_count": 54,
   "metadata": {},
   "outputs": [
    {
     "data": {
      "text/plain": [
       "array([[  0,   1,   2,   3,   4,   5],\n",
       "       [ 10,  11,  12,  13,  14,  15],\n",
       "       [ 30,  31,  32,  33,  34,  35],\n",
       "       [-20, -19, -18, -17, -16, -15],\n",
       "       [  2,   4,   6,   8,  10,  12]])"
      ]
     },
     "execution_count": 54,
     "metadata": {},
     "output_type": "execute_result"
    }
   ],
   "source": [
    "A[:,0:6]  # columns selection\n",
    "\n",
    "# Seleccionar columnas"
   ]
  },
  {
   "cell_type": "code",
   "execution_count": 56,
   "metadata": {},
   "outputs": [
    {
     "name": "stdout",
     "output_type": "stream",
     "text": [
      "[[0. 0.]\n",
      " [0. 0.]\n",
      " [0. 0.]\n",
      " [0. 0.]\n",
      " [0. 0.]\n",
      " [0. 0.]\n",
      " [0. 0.]\n",
      " [0. 0.]]\n"
     ]
    }
   ],
   "source": [
    "M1 = np.zeros( (8, 2) )\n",
    "print(M1)"
   ]
  },
  {
   "cell_type": "code",
   "execution_count": 57,
   "metadata": {
    "scrolled": false
   },
   "outputs": [
    {
     "name": "stdout",
     "output_type": "stream",
     "text": [
      "[[1. 1. 1. 1.]\n",
      " [1. 1. 1. 1.]\n",
      " [1. 1. 1. 1.]\n",
      " [1. 1. 1. 1.]\n",
      " [1. 1. 1. 1.]\n",
      " [1. 1. 1. 1.]\n",
      " [1. 1. 1. 1.]\n",
      " [1. 1. 1. 1.]]\n"
     ]
    }
   ],
   "source": [
    "M2 = np.ones( (8, 4) )\n",
    "print(M2)"
   ]
  },
  {
   "cell_type": "markdown",
   "metadata": {},
   "source": [
    "## Join matrix"
   ]
  },
  {
   "cell_type": "code",
   "execution_count": 58,
   "metadata": {
    "scrolled": true
   },
   "outputs": [
    {
     "data": {
      "text/plain": [
       "array([[0., 0., 1., 1., 1., 1.],\n",
       "       [0., 0., 1., 1., 1., 1.],\n",
       "       [0., 0., 1., 1., 1., 1.],\n",
       "       [0., 0., 1., 1., 1., 1.],\n",
       "       [0., 0., 1., 1., 1., 1.],\n",
       "       [0., 0., 1., 1., 1., 1.],\n",
       "       [0., 0., 1., 1., 1., 1.],\n",
       "       [0., 0., 1., 1., 1., 1.]])"
      ]
     },
     "execution_count": 58,
     "metadata": {},
     "output_type": "execute_result"
    }
   ],
   "source": [
    "M3 = np.hstack((M1,M2))  # stack horizontal \n",
    "M3"
   ]
  },
  {
   "cell_type": "code",
   "execution_count": 59,
   "metadata": {},
   "outputs": [
    {
     "name": "stdout",
     "output_type": "stream",
     "text": [
      "[[2 2 3 4 5 1]\n",
      " [1 5 5 9 8 2]]\n"
     ]
    }
   ],
   "source": [
    "M4 = np.array([[2,2,3,4,5,1],[1,5,5,9,8,2]])\n",
    "print(M4)"
   ]
  },
  {
   "cell_type": "code",
   "execution_count": 60,
   "metadata": {},
   "outputs": [
    {
     "name": "stdout",
     "output_type": "stream",
     "text": [
      "[[0. 0. 1. 1. 1. 1.]\n",
      " [0. 0. 1. 1. 1. 1.]\n",
      " [0. 0. 1. 1. 1. 1.]\n",
      " [0. 0. 1. 1. 1. 1.]\n",
      " [0. 0. 1. 1. 1. 1.]\n",
      " [0. 0. 1. 1. 1. 1.]\n",
      " [0. 0. 1. 1. 1. 1.]\n",
      " [0. 0. 1. 1. 1. 1.]\n",
      " [2. 2. 3. 4. 5. 1.]\n",
      " [1. 5. 5. 9. 8. 2.]]\n"
     ]
    },
    {
     "data": {
      "text/plain": [
       "array([[0., 0., 0., 0., 0., 0., 0., 0., 2., 1.],\n",
       "       [0., 0., 0., 0., 0., 0., 0., 0., 2., 5.],\n",
       "       [1., 1., 1., 1., 1., 1., 1., 1., 3., 5.],\n",
       "       [1., 1., 1., 1., 1., 1., 1., 1., 4., 9.],\n",
       "       [1., 1., 1., 1., 1., 1., 1., 1., 5., 8.],\n",
       "       [1., 1., 1., 1., 1., 1., 1., 1., 1., 2.]])"
      ]
     },
     "execution_count": 60,
     "metadata": {},
     "output_type": "execute_result"
    }
   ],
   "source": [
    "M5 = np.vstack((M3,M4)) # stack vertical \n",
    "print(M5)\n",
    "M5.T"
   ]
  },
  {
   "cell_type": "code",
   "execution_count": 61,
   "metadata": {},
   "outputs": [
    {
     "name": "stdout",
     "output_type": "stream",
     "text": [
      "[1. 1. 1. 1. 1. 1. 1. 1. 1. 1.]\n"
     ]
    }
   ],
   "source": [
    "# Create a 1D NumPy array of ones of length 10:\n",
    "w = np.ones(10)\n",
    "print(w)"
   ]
  },
  {
   "cell_type": "code",
   "execution_count": 62,
   "metadata": {
    "scrolled": true
   },
   "outputs": [
    {
     "name": "stdout",
     "output_type": "stream",
     "text": [
      "[[1. 0. 0. 0. 0. 0. 0. 0.]\n",
      " [0. 1. 0. 0. 0. 0. 0. 0.]\n",
      " [0. 0. 1. 0. 0. 0. 0. 0.]\n",
      " [0. 0. 0. 1. 0. 0. 0. 0.]\n",
      " [0. 0. 0. 0. 1. 0. 0. 0.]\n",
      " [0. 0. 0. 0. 0. 1. 0. 0.]\n",
      " [0. 0. 0. 0. 0. 0. 1. 0.]\n",
      " [0. 0. 0. 0. 0. 0. 0. 1.]]\n"
     ]
    }
   ],
   "source": [
    "# Create the identity matrix of size 8:\n",
    "I = np.eye(8)\n",
    "print(I)"
   ]
  },
  {
   "cell_type": "code",
   "execution_count": 63,
   "metadata": {},
   "outputs": [
    {
     "name": "stdout",
     "output_type": "stream",
     "text": [
      "[[1. 0.]\n",
      " [0. 0.]\n",
      " [0. 0.]\n",
      " [0. 0.]\n",
      " [0. 1.]\n",
      " [0. 0.]\n",
      " [0. 0.]\n",
      " [0. 0.]\n",
      " [0. 0.]\n",
      " [1. 0.]\n",
      " [0. 0.]\n",
      " [0. 0.]\n",
      " [0. 0.]\n",
      " [0. 1.]\n",
      " [0. 0.]\n",
      " [0. 0.]\n",
      " [0. 0.]\n",
      " [0. 0.]\n",
      " [1. 0.]\n",
      " [0. 0.]\n",
      " [0. 0.]\n",
      " [0. 0.]\n",
      " [0. 1.]\n",
      " [0. 0.]\n",
      " [0. 0.]\n",
      " [0. 0.]\n",
      " [0. 0.]\n",
      " [1. 0.]\n",
      " [0. 0.]\n",
      " [0. 0.]\n",
      " [0. 0.]\n",
      " [0. 1.]]\n"
     ]
    }
   ],
   "source": [
    "I3 = I.reshape(32, 2)\n",
    "print(I3)"
   ]
  },
  {
   "cell_type": "code",
   "execution_count": 77,
   "metadata": {},
   "outputs": [
    {
     "data": {
      "text/plain": [
       "array([0.24731131, 0.28671371, 0.99282501, 0.75172088, 0.712826  ,\n",
       "       0.33032713, 0.9803622 , 0.98765837, 0.91945259, 0.32731286,\n",
       "       0.56195897, 0.24385205, 0.42400369, 0.10620554, 0.26031169,\n",
       "       0.47442559, 0.95146593, 0.91637709, 0.80634235, 0.82455417,\n",
       "       0.24666605, 0.80951086, 0.27849759, 0.67661227, 0.42897417,\n",
       "       0.84618919, 0.70897624, 0.43453072, 0.8494031 , 0.35995841,\n",
       "       0.07139095, 0.32218999, 0.28786225, 0.25998424, 0.6105984 ,\n",
       "       0.70492127, 0.2849689 , 0.14995164, 0.23301186, 0.92058755,\n",
       "       0.31554928, 0.99397333, 0.99449213, 0.18260955, 0.19618338,\n",
       "       0.84354754, 0.61091378, 0.70992719, 0.29839665, 0.53024345,\n",
       "       0.79629586, 0.67343615, 0.84716553, 0.25429286, 0.78773915,\n",
       "       0.38860766, 0.07201931, 0.40556793, 0.64417147, 0.74170174,\n",
       "       0.8127351 , 0.13601158, 0.0817221 , 0.19640368, 0.9496781 ,\n",
       "       0.89044484, 0.95614329, 0.83459753, 0.10233407, 0.1706093 ,\n",
       "       0.0773725 , 0.24621017, 0.2541718 , 0.20447364, 0.38455583,\n",
       "       0.55056065, 0.93044284, 0.19243855, 0.12161788, 0.82638522,\n",
       "       0.96928695, 0.13160122, 0.00615098, 0.67155177, 0.31049662,\n",
       "       0.29426487, 0.9645239 , 0.35593696, 0.85538741, 0.29840498,\n",
       "       0.35541758, 0.17952367, 0.16453963, 0.69953593, 0.36699428,\n",
       "       0.37212887, 0.31995131, 0.59161687, 0.77951138, 0.36717942,\n",
       "       0.59262231, 0.45764081, 0.99166242, 0.93761958, 0.49395944,\n",
       "       0.81097296, 0.84318097, 0.86105818, 0.73767597, 0.39865674,\n",
       "       0.13378648, 0.2715444 , 0.07993509, 0.3991777 , 0.88767294,\n",
       "       0.61857664, 0.89860031, 0.99043746, 0.75713583, 0.28110523,\n",
       "       0.71089605, 0.65349759, 0.64207444, 0.24463549, 0.7460999 ,\n",
       "       0.41539162, 0.61589791, 0.46890017, 0.14086233, 0.8049222 ,\n",
       "       0.1283465 , 0.35802969, 0.8937997 , 0.80614339, 0.76080355,\n",
       "       0.85063614, 0.89055866, 0.71212833, 0.76015764, 0.24739875,\n",
       "       0.19259494, 0.19320838, 0.02031069, 0.88419187, 0.68124394,\n",
       "       0.71579613, 0.61605449, 0.28128818, 0.71173096, 0.32765391,\n",
       "       0.70545702, 0.26892942, 0.88337918, 0.58202723, 0.71893429,\n",
       "       0.98697383, 0.21566392, 0.31024448, 0.05249432, 0.10277416,\n",
       "       0.89228271, 0.83418607, 0.81553042, 0.57791789, 0.84481963,\n",
       "       0.3749359 , 0.35477005, 0.84175175, 0.7897277 , 0.87221003,\n",
       "       0.37044417, 0.51199249, 0.08304145, 0.21742286, 0.05782393,\n",
       "       0.20487752, 0.12298233, 0.49600401, 0.46628748, 0.07285197,\n",
       "       0.36123576, 0.9578621 , 0.7711149 , 0.28685738, 0.85866336,\n",
       "       0.04235145, 0.40338998, 0.5202931 , 0.00279785, 0.22204945,\n",
       "       0.15449255, 0.08651871, 0.20421917, 0.87053908, 0.68418123,\n",
       "       0.36385037, 0.09544515, 0.69174859, 0.71277667, 0.96415241,\n",
       "       0.21018458, 0.89743199, 0.16409029, 0.35902341, 0.1069182 ,\n",
       "       0.64260661, 0.77244013, 0.94384909, 0.80084556, 0.50394628,\n",
       "       0.692324  , 0.29896386, 0.17864091, 0.80019221, 0.56326679,\n",
       "       0.58018782, 0.97581267, 0.25692067, 0.58576443, 0.97987902,\n",
       "       0.89403298, 0.66765459, 0.16835965, 0.8450407 , 0.81355702,\n",
       "       0.34557504, 0.89141097, 0.16541347, 0.05623102, 0.03960999,\n",
       "       0.96365547, 0.62313478, 0.42646149, 0.09164154, 0.96540314,\n",
       "       0.6137729 , 0.72096694, 0.23322317, 0.84667474, 0.0731887 ,\n",
       "       0.14302281, 0.03448604, 0.03004351, 0.4397761 , 0.85233667,\n",
       "       0.10496555, 0.605921  , 0.4020845 , 0.77935683, 0.92226029,\n",
       "       0.47256997, 0.4973582 , 0.86090122, 0.65511967, 0.03006462,\n",
       "       0.66721768, 0.09385841, 0.32487957, 0.98081535, 0.97874334,\n",
       "       0.84875535, 0.43885229, 0.03867482, 0.16124903, 0.43518952,\n",
       "       0.93314273, 0.26142512, 0.69005803, 0.70363636, 0.51630139,\n",
       "       0.69791719, 0.49536319, 0.36831805, 0.33756633, 0.01944046,\n",
       "       0.61856425, 0.5729602 , 0.94330392, 0.03040598, 0.71213874,\n",
       "       0.53567714, 0.88014055, 0.10163556, 0.86673779, 0.65249678,\n",
       "       0.85741196, 0.02041986, 0.15610368, 0.2270249 , 0.93197096,\n",
       "       0.71778803, 0.39685739, 0.36532523, 0.81624405, 0.91883329,\n",
       "       0.70255161, 0.07629087, 0.84335696, 0.99905805, 0.76693574,\n",
       "       0.99973879, 0.05224442, 0.378069  , 0.64558761, 0.86553781,\n",
       "       0.44923743, 0.73261349, 0.35466246, 0.85520815, 0.27382326,\n",
       "       0.22611609, 0.15241636, 0.4097192 , 0.79206682, 0.93687605,\n",
       "       0.93154811, 0.45994478, 0.92744043, 0.47278067, 0.27936245,\n",
       "       0.38543369, 0.92722752, 0.71113231, 0.47396944, 0.74205606,\n",
       "       0.86767541, 0.30716804, 0.60713981, 0.66074271, 0.79699927,\n",
       "       0.34972679, 0.34694389, 0.52682311, 0.83227875, 0.0879126 ,\n",
       "       0.98633869, 0.8760146 , 0.05273933, 0.45484235, 0.09545527,\n",
       "       0.4382738 , 0.48389049, 0.47526232, 0.85716434, 0.11801749,\n",
       "       0.04253548, 0.74235379, 0.37493128, 0.96508295, 0.60477322,\n",
       "       0.42161021, 0.05734432, 0.44777041, 0.76382377, 0.6392755 ,\n",
       "       0.97784326, 0.81717164, 0.89366174, 0.52405296, 0.6031411 ,\n",
       "       0.73539793, 0.37639066, 0.35600626, 0.98089276, 0.97064442,\n",
       "       0.65673733, 0.72387846, 0.66035216, 0.29300023, 0.26749826,\n",
       "       0.02257389, 0.85602499, 0.32603919, 0.47977735, 0.80717617,\n",
       "       0.38796362, 0.80395064, 0.03661143, 0.734884  , 0.07634956,\n",
       "       0.85228446, 0.36384813, 0.33721435, 0.72400183, 0.4200541 ,\n",
       "       0.69670868, 0.55384146, 0.4072259 , 0.81465158, 0.38447966,\n",
       "       0.75448898, 0.95633511, 0.75608123, 0.18162801, 0.38104594,\n",
       "       0.5483067 , 0.6902682 , 0.74300422, 0.18480176, 0.30111763,\n",
       "       0.0343161 , 0.54127115, 0.06169753, 0.40089063, 0.15802754,\n",
       "       0.29259617, 0.62743112, 0.1381381 , 0.56419776, 0.9658916 ,\n",
       "       0.46164285, 0.27987118, 0.1169612 , 0.33891781, 0.28128642,\n",
       "       0.74917069, 0.87539606, 0.50408632, 0.35634528, 0.78180773,\n",
       "       0.09537971, 0.75977611, 0.9931232 , 0.32582907, 0.23202045,\n",
       "       0.70838325, 0.19219316, 0.52912712, 0.21442601, 0.43880012,\n",
       "       0.32096666, 0.72877833, 0.35425883, 0.46115384, 0.32073722,\n",
       "       0.92146978, 0.30426639, 0.91211019, 0.17611538, 0.78315395,\n",
       "       0.23480993, 0.12316378, 0.47315715, 0.54494212, 0.68398336,\n",
       "       0.33109551, 0.62167063, 0.93354211, 0.80664227, 0.94144544,\n",
       "       0.65111755, 0.79838018, 0.07031313, 0.23918527, 0.89307619,\n",
       "       0.34929746, 0.46219726, 0.68157804, 0.42105253, 0.20945196,\n",
       "       0.48696654, 0.93191776, 0.48255976, 0.82745187, 0.45194265,\n",
       "       0.91099424, 0.94250258, 0.97236891, 0.56084001, 0.0088457 ,\n",
       "       0.8207813 , 0.61168599, 0.11346098, 0.8323876 , 0.97222106,\n",
       "       0.30344723, 0.08988626, 0.33703466, 0.54496789, 0.43979127,\n",
       "       0.34626514, 0.72867959, 0.90083819, 0.34405128, 0.32146996,\n",
       "       0.42507369, 0.33077282, 0.27561194, 0.36807086, 0.02784034,\n",
       "       0.94359765, 0.79103898, 0.74584012, 0.61755815, 0.11539282,\n",
       "       0.89799122, 0.47506804, 0.7216976 , 0.78060992, 0.16554704])"
      ]
     },
     "execution_count": 77,
     "metadata": {},
     "output_type": "execute_result"
    }
   ],
   "source": [
    "import random \n",
    "\n",
    "random.seed(175) # semilla aleatoria\n",
    "\n",
    "np.random.rand(500)"
   ]
  },
  {
   "cell_type": "code",
   "execution_count": 78,
   "metadata": {
    "scrolled": false
   },
   "outputs": [],
   "source": [
    "import random \n",
    "\n",
    "random.seed(175) # semilla aleatoria\n",
    "\n",
    "x1 = np.random.rand(500) # uniform distribution  [0,1]\n",
    "x2 = np.random.rand(500) # uniform distribution [0,1]\n",
    "x3 = np.random.rand(500) # uniform distribution [0,1]\n",
    "x4 = np.random.rand(500) # uniform distribution [0,1]\n",
    "e = np.random.normal(0,1,500) # normal distribution mean = 0 and sd = 1\n",
    "\n",
    "# Poblacional regression (Data Generating Process GDP)\n",
    "\n",
    "\n",
    "Y = 1 + 0.8*x1 + 1.2*x2 + 0.5*x3 + 1.5*x4 + e"
   ]
  },
  {
   "cell_type": "code",
   "execution_count": 97,
   "metadata": {},
   "outputs": [
    {
     "data": {
      "text/plain": [
       "array([[1.        , 0.15202709, 0.16545865, 0.19223446, 0.2183345 ],\n",
       "       [1.        , 0.88867204, 0.13073635, 0.63118029, 0.26001309],\n",
       "       [1.        , 0.84935949, 0.73861047, 0.21451097, 0.77371957],\n",
       "       ...,\n",
       "       [1.        , 0.85611886, 0.8475847 , 0.62436872, 0.83069675],\n",
       "       [1.        , 0.30604432, 0.56793648, 0.23565967, 0.52384759],\n",
       "       [1.        , 0.71393431, 0.13937224, 0.11756261, 0.15967947]])"
      ]
     },
     "execution_count": 97,
     "metadata": {},
     "output_type": "execute_result"
    }
   ],
   "source": [
    "X = np.column_stack((np.ones(500),x1,x2,x3,x4))\n",
    "X"
   ]
  },
  {
   "cell_type": "code",
   "execution_count": 99,
   "metadata": {},
   "outputs": [
    {
     "name": "stdout",
     "output_type": "stream",
     "text": [
      "[0.92520163 0.62337203 1.18403152 0.7290729  1.450006  ]\n"
     ]
    }
   ],
   "source": [
    "beta = np.linalg.inv(X.T @ X) @ ((X.T) @ Y )\n",
    "print(beta)"
   ]
  },
  {
   "cell_type": "markdown",
   "metadata": {},
   "source": [
    "# References\n",
    "\n",
    "## Numpy \n",
    "https://numpy.org/doc/stable/reference/arrays.html\n",
    "\n",
    "https://www.kaggle.com/code/hkumls/intensive-python-tutorial-numpy/notebook"
   ]
  }
 ],
 "metadata": {
  "kernelspec": {
   "display_name": "Python 3 (ipykernel)",
   "language": "python",
   "name": "python3"
  },
  "language_info": {
   "codemirror_mode": {
    "name": "ipython",
    "version": 3
   },
   "file_extension": ".py",
   "mimetype": "text/x-python",
   "name": "python",
   "nbconvert_exporter": "python",
   "pygments_lexer": "ipython3",
   "version": "3.9.12"
  }
 },
 "nbformat": 4,
 "nbformat_minor": 4
}
