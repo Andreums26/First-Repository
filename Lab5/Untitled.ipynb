{
 "cells": [
  {
   "cell_type": "code",
   "execution_count": null,
   "id": "a5f4f562",
   "metadata": {},
   "outputs": [],
   "source": [
    "# Issue 4 #"
   ]
  },
  {
   "cell_type": "code",
   "execution_count": null,
   "id": "1a37c7a9",
   "metadata": {},
   "outputs": [],
   "source": [
    "# Importamos las bibliotecas necesarias"
   ]
  },
  {
   "cell_type": "code",
   "execution_count": 5,
   "id": "ca0510b3",
   "metadata": {},
   "outputs": [],
   "source": [
    "import pandas as pd\n",
    "import numpy as np\n",
    "import scipy.stats as stats\n",
    "from scipy.stats import t # t - student \n",
    "import os"
   ]
  },
  {
   "cell_type": "code",
   "execution_count": null,
   "id": "e64eb8ab",
   "metadata": {},
   "outputs": [],
   "source": [
    "# Creamos la clase"
   ]
  },
  {
   "cell_type": "code",
   "execution_count": 6,
   "id": "23c52838",
   "metadata": {},
   "outputs": [
    {
     "ename": "IndentationError",
     "evalue": "expected an indented block (1628933986.py, line 1)",
     "output_type": "error",
     "traceback": [
      "\u001b[0;36m  Input \u001b[0;32mIn [6]\u001b[0;36m\u001b[0m\n\u001b[0;31m    class OLSRegClass( object ):   # también podemos omitir object, pues es lo mismo\u001b[0m\n\u001b[0m                                                                                    ^\u001b[0m\n\u001b[0;31mIndentationError\u001b[0m\u001b[0;31m:\u001b[0m expected an indented block\n"
     ]
    }
   ],
   "source": [
    "class OLSRegClass( object ): # también podemos omitir object, pues es lo mismo\n",
    "    \n",
    "    def __init__( self,  X:pd.DataFrame,  y:pd.Series, lista, intercept, RobustStandardError=True ):    # X:pd.DataFrame  indica que debe ser un dataframe\n",
    "        if not isinstance( X, pd.DataFrame ):                  # si X no es dataframe, arroja error\n",
    "            raise TypeError( \"X must be a pd.DataFrame.\" )\n",
    "        \n",
    "        ## CONDICIONAL PARA y:pd.Series    ###\n",
    "        if not isinstance( y, pd.Series ):                     # si y no es series, arroja error\n",
    "            raise TypeError( \"y must be a pd.Series.\" )\n",
    "        \n",
    "        # ## CONDICIONAL PARA y:pd.Series    ###\n",
    "        if not isinstance( lista, pd.Series ):                 # si lista no es series, arroja error\n",
    "            raise TypeError( \"lista must be a pd.Series.\" )\n",
    "        \n",
    "        \n",
    "        self.X = X\n",
    "        self.y = y\n",
    "        self.RobustStandardError = RobustStandardError\n",
    "        self.intercept = intercept\n",
    "        \n",
    "        if self.intercept:\n",
    "            \n",
    "            # incluyendo columna de unos para el intercepto\n",
    "            self.X[ 'Intercept' ] = 1   # crea columna Intercept con valores 1 al final del array    \n",
    "            \n",
    "            # queremos que la columna Intercept aparezca en la primera columna \n",
    "            cols = self.X.columns.tolist()    # convierte el nombre de las columnas a lista\n",
    "            new_cols_orders = [cols[ -1 ]] + cols[ 0:-1 ]   # mueve la última columna (que sería Intercept) al inicio\n",
    "                                                    # la manera de hacerlo es ordenando primero cols[-1] y luego cols[0:-1]\n",
    "                    \n",
    "            self.X = self.X.loc[ :, new_cols_orders ]   # usamos .loc que filtra por nombre de filas o columnas \n",
    "\n",
    "        else:\n",
    "            pass\n",
    "\n"
   ]
  }
 ],
 "metadata": {
  "kernelspec": {
   "display_name": "Python 3 (ipykernel)",
   "language": "python",
   "name": "python3"
  },
  "language_info": {
   "codemirror_mode": {
    "name": "ipython",
    "version": 3
   },
   "file_extension": ".py",
   "mimetype": "text/x-python",
   "name": "python",
   "nbconvert_exporter": "python",
   "pygments_lexer": "ipython3",
   "version": "3.9.12"
  }
 },
 "nbformat": 4,
 "nbformat_minor": 5
}
