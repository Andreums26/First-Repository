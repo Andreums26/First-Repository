{
 "cells": [
  {
   "cell_type": "markdown",
   "id": "b2037955",
   "metadata": {},
   "source": [
    "# Gráficos (Tarea 08)\n"
   ]
  },
  {
   "cell_type": "code",
   "execution_count": 2,
   "id": "8c13c8af",
   "metadata": {},
   "outputs": [],
   "source": [
    "import pandas as pd\n",
    "import numpy as np\n",
    "import pyreadr\n",
    "from pandas import DataFrame,Series\n",
    "\n",
    "#plots library\n",
    "\n",
    "import matplotlib.pyplot as plt\n",
    "import seaborn as sns\n",
    "\n",
    "# import linear models library\n",
    "\n",
    "import statsmodels.api as sm\n",
    "import statsmodels.formula.api as smf"
   ]
  },
  {
   "cell_type": "code",
   "execution_count": null,
   "id": "a0c781df",
   "metadata": {},
   "outputs": [],
   "source": [
    "user = os.getlogin()   # Username\n",
    "os.chdir(f\"Z:/Users/henryandreumarquezsalinas/Documents/GitHub\")"
   ]
  },
  {
   "cell_type": "code",
   "execution_count": 3,
   "id": "a3139e0c",
   "metadata": {},
   "outputs": [],
   "source": [
    "data_env = pyreadr.read_r(\"../First-Repository/wage2015_subsample_inference.Rdata\")"
   ]
  },
  {
   "cell_type": "code",
   "execution_count": 4,
   "id": "ad83ac89",
   "metadata": {},
   "outputs": [],
   "source": [
    "data = data_env[ 'data' ]"
   ]
  },
  {
   "cell_type": "code",
   "execution_count": 5,
   "id": "405be8c5",
   "metadata": {},
   "outputs": [
    {
     "data": {
      "text/html": [
       "<div>\n",
       "<style scoped>\n",
       "    .dataframe tbody tr th:only-of-type {\n",
       "        vertical-align: middle;\n",
       "    }\n",
       "\n",
       "    .dataframe tbody tr th {\n",
       "        vertical-align: top;\n",
       "    }\n",
       "\n",
       "    .dataframe thead th {\n",
       "        text-align: right;\n",
       "    }\n",
       "</style>\n",
       "<table border=\"1\" class=\"dataframe\">\n",
       "  <thead>\n",
       "    <tr style=\"text-align: right;\">\n",
       "      <th></th>\n",
       "      <th>wage</th>\n",
       "      <th>lwage</th>\n",
       "      <th>sex</th>\n",
       "      <th>shs</th>\n",
       "      <th>hsg</th>\n",
       "      <th>scl</th>\n",
       "      <th>clg</th>\n",
       "      <th>ad</th>\n",
       "      <th>mw</th>\n",
       "      <th>so</th>\n",
       "      <th>we</th>\n",
       "      <th>ne</th>\n",
       "      <th>exp1</th>\n",
       "      <th>exp2</th>\n",
       "      <th>exp3</th>\n",
       "      <th>exp4</th>\n",
       "      <th>occ</th>\n",
       "      <th>occ2</th>\n",
       "      <th>ind</th>\n",
       "      <th>ind2</th>\n",
       "    </tr>\n",
       "    <tr>\n",
       "      <th>rownames</th>\n",
       "      <th></th>\n",
       "      <th></th>\n",
       "      <th></th>\n",
       "      <th></th>\n",
       "      <th></th>\n",
       "      <th></th>\n",
       "      <th></th>\n",
       "      <th></th>\n",
       "      <th></th>\n",
       "      <th></th>\n",
       "      <th></th>\n",
       "      <th></th>\n",
       "      <th></th>\n",
       "      <th></th>\n",
       "      <th></th>\n",
       "      <th></th>\n",
       "      <th></th>\n",
       "      <th></th>\n",
       "      <th></th>\n",
       "      <th></th>\n",
       "    </tr>\n",
       "  </thead>\n",
       "  <tbody>\n",
       "    <tr>\n",
       "      <th>10</th>\n",
       "      <td>9.615385</td>\n",
       "      <td>2.263364</td>\n",
       "      <td>1.0</td>\n",
       "      <td>0.0</td>\n",
       "      <td>0.0</td>\n",
       "      <td>0.0</td>\n",
       "      <td>1.0</td>\n",
       "      <td>0.0</td>\n",
       "      <td>0.0</td>\n",
       "      <td>0.0</td>\n",
       "      <td>0.0</td>\n",
       "      <td>1.0</td>\n",
       "      <td>7.0</td>\n",
       "      <td>0.49</td>\n",
       "      <td>0.343</td>\n",
       "      <td>0.2401</td>\n",
       "      <td>3600</td>\n",
       "      <td>11</td>\n",
       "      <td>8370</td>\n",
       "      <td>18</td>\n",
       "    </tr>\n",
       "    <tr>\n",
       "      <th>12</th>\n",
       "      <td>48.076923</td>\n",
       "      <td>3.872802</td>\n",
       "      <td>0.0</td>\n",
       "      <td>0.0</td>\n",
       "      <td>0.0</td>\n",
       "      <td>0.0</td>\n",
       "      <td>1.0</td>\n",
       "      <td>0.0</td>\n",
       "      <td>0.0</td>\n",
       "      <td>0.0</td>\n",
       "      <td>0.0</td>\n",
       "      <td>1.0</td>\n",
       "      <td>31.0</td>\n",
       "      <td>9.61</td>\n",
       "      <td>29.791</td>\n",
       "      <td>92.3521</td>\n",
       "      <td>3050</td>\n",
       "      <td>10</td>\n",
       "      <td>5070</td>\n",
       "      <td>9</td>\n",
       "    </tr>\n",
       "    <tr>\n",
       "      <th>15</th>\n",
       "      <td>11.057692</td>\n",
       "      <td>2.403126</td>\n",
       "      <td>0.0</td>\n",
       "      <td>0.0</td>\n",
       "      <td>1.0</td>\n",
       "      <td>0.0</td>\n",
       "      <td>0.0</td>\n",
       "      <td>0.0</td>\n",
       "      <td>0.0</td>\n",
       "      <td>0.0</td>\n",
       "      <td>0.0</td>\n",
       "      <td>1.0</td>\n",
       "      <td>18.0</td>\n",
       "      <td>3.24</td>\n",
       "      <td>5.832</td>\n",
       "      <td>10.4976</td>\n",
       "      <td>6260</td>\n",
       "      <td>19</td>\n",
       "      <td>770</td>\n",
       "      <td>4</td>\n",
       "    </tr>\n",
       "    <tr>\n",
       "      <th>18</th>\n",
       "      <td>13.942308</td>\n",
       "      <td>2.634928</td>\n",
       "      <td>1.0</td>\n",
       "      <td>0.0</td>\n",
       "      <td>0.0</td>\n",
       "      <td>0.0</td>\n",
       "      <td>0.0</td>\n",
       "      <td>1.0</td>\n",
       "      <td>0.0</td>\n",
       "      <td>0.0</td>\n",
       "      <td>0.0</td>\n",
       "      <td>1.0</td>\n",
       "      <td>25.0</td>\n",
       "      <td>6.25</td>\n",
       "      <td>15.625</td>\n",
       "      <td>39.0625</td>\n",
       "      <td>420</td>\n",
       "      <td>1</td>\n",
       "      <td>6990</td>\n",
       "      <td>12</td>\n",
       "    </tr>\n",
       "    <tr>\n",
       "      <th>19</th>\n",
       "      <td>28.846154</td>\n",
       "      <td>3.361977</td>\n",
       "      <td>1.0</td>\n",
       "      <td>0.0</td>\n",
       "      <td>0.0</td>\n",
       "      <td>0.0</td>\n",
       "      <td>1.0</td>\n",
       "      <td>0.0</td>\n",
       "      <td>0.0</td>\n",
       "      <td>0.0</td>\n",
       "      <td>0.0</td>\n",
       "      <td>1.0</td>\n",
       "      <td>22.0</td>\n",
       "      <td>4.84</td>\n",
       "      <td>10.648</td>\n",
       "      <td>23.4256</td>\n",
       "      <td>2015</td>\n",
       "      <td>6</td>\n",
       "      <td>9470</td>\n",
       "      <td>22</td>\n",
       "    </tr>\n",
       "    <tr>\n",
       "      <th>...</th>\n",
       "      <td>...</td>\n",
       "      <td>...</td>\n",
       "      <td>...</td>\n",
       "      <td>...</td>\n",
       "      <td>...</td>\n",
       "      <td>...</td>\n",
       "      <td>...</td>\n",
       "      <td>...</td>\n",
       "      <td>...</td>\n",
       "      <td>...</td>\n",
       "      <td>...</td>\n",
       "      <td>...</td>\n",
       "      <td>...</td>\n",
       "      <td>...</td>\n",
       "      <td>...</td>\n",
       "      <td>...</td>\n",
       "      <td>...</td>\n",
       "      <td>...</td>\n",
       "      <td>...</td>\n",
       "      <td>...</td>\n",
       "    </tr>\n",
       "    <tr>\n",
       "      <th>32620</th>\n",
       "      <td>14.769231</td>\n",
       "      <td>2.692546</td>\n",
       "      <td>0.0</td>\n",
       "      <td>0.0</td>\n",
       "      <td>0.0</td>\n",
       "      <td>0.0</td>\n",
       "      <td>1.0</td>\n",
       "      <td>0.0</td>\n",
       "      <td>0.0</td>\n",
       "      <td>0.0</td>\n",
       "      <td>1.0</td>\n",
       "      <td>0.0</td>\n",
       "      <td>9.0</td>\n",
       "      <td>0.81</td>\n",
       "      <td>0.729</td>\n",
       "      <td>0.6561</td>\n",
       "      <td>4700</td>\n",
       "      <td>16</td>\n",
       "      <td>4970</td>\n",
       "      <td>9</td>\n",
       "    </tr>\n",
       "    <tr>\n",
       "      <th>32624</th>\n",
       "      <td>23.076923</td>\n",
       "      <td>3.138833</td>\n",
       "      <td>1.0</td>\n",
       "      <td>0.0</td>\n",
       "      <td>0.0</td>\n",
       "      <td>1.0</td>\n",
       "      <td>0.0</td>\n",
       "      <td>0.0</td>\n",
       "      <td>0.0</td>\n",
       "      <td>0.0</td>\n",
       "      <td>1.0</td>\n",
       "      <td>0.0</td>\n",
       "      <td>12.0</td>\n",
       "      <td>1.44</td>\n",
       "      <td>1.728</td>\n",
       "      <td>2.0736</td>\n",
       "      <td>4110</td>\n",
       "      <td>13</td>\n",
       "      <td>8680</td>\n",
       "      <td>20</td>\n",
       "    </tr>\n",
       "    <tr>\n",
       "      <th>32626</th>\n",
       "      <td>38.461538</td>\n",
       "      <td>3.649659</td>\n",
       "      <td>0.0</td>\n",
       "      <td>0.0</td>\n",
       "      <td>0.0</td>\n",
       "      <td>0.0</td>\n",
       "      <td>0.0</td>\n",
       "      <td>1.0</td>\n",
       "      <td>0.0</td>\n",
       "      <td>0.0</td>\n",
       "      <td>1.0</td>\n",
       "      <td>0.0</td>\n",
       "      <td>11.0</td>\n",
       "      <td>1.21</td>\n",
       "      <td>1.331</td>\n",
       "      <td>1.4641</td>\n",
       "      <td>1550</td>\n",
       "      <td>4</td>\n",
       "      <td>3680</td>\n",
       "      <td>6</td>\n",
       "    </tr>\n",
       "    <tr>\n",
       "      <th>32631</th>\n",
       "      <td>32.967033</td>\n",
       "      <td>3.495508</td>\n",
       "      <td>0.0</td>\n",
       "      <td>0.0</td>\n",
       "      <td>1.0</td>\n",
       "      <td>0.0</td>\n",
       "      <td>0.0</td>\n",
       "      <td>0.0</td>\n",
       "      <td>0.0</td>\n",
       "      <td>0.0</td>\n",
       "      <td>1.0</td>\n",
       "      <td>0.0</td>\n",
       "      <td>10.0</td>\n",
       "      <td>1.00</td>\n",
       "      <td>1.000</td>\n",
       "      <td>1.0000</td>\n",
       "      <td>2920</td>\n",
       "      <td>9</td>\n",
       "      <td>6570</td>\n",
       "      <td>11</td>\n",
       "    </tr>\n",
       "    <tr>\n",
       "      <th>32643</th>\n",
       "      <td>17.307692</td>\n",
       "      <td>2.851151</td>\n",
       "      <td>0.0</td>\n",
       "      <td>0.0</td>\n",
       "      <td>0.0</td>\n",
       "      <td>0.0</td>\n",
       "      <td>0.0</td>\n",
       "      <td>1.0</td>\n",
       "      <td>0.0</td>\n",
       "      <td>0.0</td>\n",
       "      <td>1.0</td>\n",
       "      <td>0.0</td>\n",
       "      <td>14.0</td>\n",
       "      <td>1.96</td>\n",
       "      <td>2.744</td>\n",
       "      <td>3.8416</td>\n",
       "      <td>1610</td>\n",
       "      <td>5</td>\n",
       "      <td>7460</td>\n",
       "      <td>14</td>\n",
       "    </tr>\n",
       "  </tbody>\n",
       "</table>\n",
       "<p>5150 rows × 20 columns</p>\n",
       "</div>"
      ],
      "text/plain": [
       "               wage     lwage  sex  shs  hsg  scl  clg   ad   mw   so   we  \\\n",
       "rownames                                                                     \n",
       "10         9.615385  2.263364  1.0  0.0  0.0  0.0  1.0  0.0  0.0  0.0  0.0   \n",
       "12        48.076923  3.872802  0.0  0.0  0.0  0.0  1.0  0.0  0.0  0.0  0.0   \n",
       "15        11.057692  2.403126  0.0  0.0  1.0  0.0  0.0  0.0  0.0  0.0  0.0   \n",
       "18        13.942308  2.634928  1.0  0.0  0.0  0.0  0.0  1.0  0.0  0.0  0.0   \n",
       "19        28.846154  3.361977  1.0  0.0  0.0  0.0  1.0  0.0  0.0  0.0  0.0   \n",
       "...             ...       ...  ...  ...  ...  ...  ...  ...  ...  ...  ...   \n",
       "32620     14.769231  2.692546  0.0  0.0  0.0  0.0  1.0  0.0  0.0  0.0  1.0   \n",
       "32624     23.076923  3.138833  1.0  0.0  0.0  1.0  0.0  0.0  0.0  0.0  1.0   \n",
       "32626     38.461538  3.649659  0.0  0.0  0.0  0.0  0.0  1.0  0.0  0.0  1.0   \n",
       "32631     32.967033  3.495508  0.0  0.0  1.0  0.0  0.0  0.0  0.0  0.0  1.0   \n",
       "32643     17.307692  2.851151  0.0  0.0  0.0  0.0  0.0  1.0  0.0  0.0  1.0   \n",
       "\n",
       "           ne  exp1  exp2    exp3     exp4   occ occ2   ind ind2  \n",
       "rownames                                                          \n",
       "10        1.0   7.0  0.49   0.343   0.2401  3600   11  8370   18  \n",
       "12        1.0  31.0  9.61  29.791  92.3521  3050   10  5070    9  \n",
       "15        1.0  18.0  3.24   5.832  10.4976  6260   19   770    4  \n",
       "18        1.0  25.0  6.25  15.625  39.0625   420    1  6990   12  \n",
       "19        1.0  22.0  4.84  10.648  23.4256  2015    6  9470   22  \n",
       "...       ...   ...   ...     ...      ...   ...  ...   ...  ...  \n",
       "32620     0.0   9.0  0.81   0.729   0.6561  4700   16  4970    9  \n",
       "32624     0.0  12.0  1.44   1.728   2.0736  4110   13  8680   20  \n",
       "32626     0.0  11.0  1.21   1.331   1.4641  1550    4  3680    6  \n",
       "32631     0.0  10.0  1.00   1.000   1.0000  2920    9  6570   11  \n",
       "32643     0.0  14.0  1.96   2.744   3.8416  1610    5  7460   14  \n",
       "\n",
       "[5150 rows x 20 columns]"
      ]
     },
     "execution_count": 5,
     "metadata": {},
     "output_type": "execute_result"
    }
   ],
   "source": [
    "data # esta será nuestra base de datos"
   ]
  },
  {
   "cell_type": "markdown",
   "id": "96b700f2",
   "metadata": {},
   "source": [
    "# 1) Histograma"
   ]
  },
  {
   "cell_type": "code",
   "execution_count": 9,
   "id": "21686654",
   "metadata": {},
   "outputs": [],
   "source": [
    "# Dummy sexo\n",
    "\n",
    "data['Dummy'] =  np.where(data[\"sex\"] > 0.0 , 1, 0)"
   ]
  },
  {
   "cell_type": "code",
   "execution_count": 10,
   "id": "dbeb2980",
   "metadata": {},
   "outputs": [
    {
     "data": {
      "text/plain": [
       "Text(0.5, 0, '')"
      ]
     },
     "execution_count": 10,
     "metadata": {},
     "output_type": "execute_result"
    },
    {
     "data": {
      "image/png": "[encoded data removed]",
      "text/plain": [
       "<Figure size 576x360 with 1 Axes>"
      ]
     },
     "metadata": {
      "needs_background": "light"
     },
     "output_type": "display_data"
    }
   ],
   "source": [
    "fig = plt.subplots(figsize=(8,5))\n",
    "\n",
    "sns.histplot(data = data,\n",
    "            x = \"wage\",\n",
    "            alpha = 0.6,\n",
    "            hue = 'Dummy',  # crear dos histogramas\n",
    "            palette=['white','blue'],\n",
    "            edgecolor=\"0.1\", # borde de las barras\n",
    "            linewidth=1, # ancho del borde\n",
    "             binwidth=0.5 # ancho de la barra\n",
    "            )\n",
    "\n",
    "\n",
    "# Modificar la leyenda \n",
    "plt.legend(labels=['Mujer','Hombre'],  title = \"\", frameon=True, bbox_to_anchor=(1.0, 0.98))\n",
    "\n",
    "plt.title('Salario por hora (wage)', size=12)\n",
    "plt.ylabel('Frecuencia absoluta')\n",
    "plt.xlabel('')"
   ]
  },
  {
   "cell_type": "code",
   "execution_count": 11,
   "id": "3ad014f2",
   "metadata": {},
   "outputs": [
    {
     "data": {
      "text/plain": [
       "Text(0.5, 0, '')"
      ]
     },
     "execution_count": 11,
     "metadata": {},
     "output_type": "execute_result"
    },
    {
     "data": {
      "image/png": "[encoded data removed]",
      "text/plain": [
       "<Figure size 576x360 with 1 Axes>"
      ]
     },
     "metadata": {
      "needs_background": "light"
     },
     "output_type": "display_data"
    }
   ],
   "source": [
    "fig = plt.subplots(figsize=(8,5))\n",
    "\n",
    "sns.histplot(data = data,\n",
    "            x = \"lwage\",\n",
    "            alpha = 0.6,\n",
    "            hue = 'Dummy',  # crear dos histogramas\n",
    "            palette=['white','blue'],\n",
    "            edgecolor=\"0.1\", # borde de las barras\n",
    "            linewidth=1, # ancho del borde\n",
    "             binwidth=0.5 # ancho de la barra\n",
    "            )\n",
    "\n",
    "\n",
    "# Modificar la leyenda \n",
    "plt.legend(labels=['Mujer','Hombre'],  title = \"\", frameon=True, bbox_to_anchor=(1.0, 0.98))\n",
    "\n",
    "plt.title('Logaritmo del salario por hora (lwage)', size=12)\n",
    "plt.ylabel('Frecuencia absoluta')\n",
    "plt.xlabel('')"
   ]
  },
  {
   "cell_type": "markdown",
   "id": "1513a08b",
   "metadata": {},
   "source": [
    "Comparación: \n",
    "\n",
    "Luego de graficar ambos histogramas queda claro que el segundo, en el que se emplea el logaritmo de los salarios (lwage), es el más recomendable. Esto porque dada la reducción de los valores por el empleo del logaritmo, permite apreciar de mejor forma el gráfico. La gran diferencia entre los salarios en el primer histograma generaba que el rango de x sea excesivamente amplio."
   ]
  },
  {
   "cell_type": "markdown",
   "id": "36abd6d6",
   "metadata": {},
   "source": [
    "# 2) Gráfico de densidad"
   ]
  },
  {
   "cell_type": "code",
   "execution_count": 12,
   "id": "c488ed39",
   "metadata": {},
   "outputs": [],
   "source": [
    "# Planteamos una dummy para la universidad completa\n",
    "\n",
    "data['Dummy2'] =  np.where(data[\"hsg\"] > 0.0 , 1, 0)"
   ]
  },
  {
   "cell_type": "code",
   "execution_count": 13,
   "id": "1ebd1c71",
   "metadata": {},
   "outputs": [
    {
     "data": {
      "text/plain": [
       "Text(0.5, 0, '')"
      ]
     },
     "execution_count": 13,
     "metadata": {},
     "output_type": "execute_result"
    },
    {
     "data": {
      "image/png": "[encoded data removed]",
      "text/plain": [
       "<Figure size 576x360 with 1 Axes>"
      ]
     },
     "metadata": {
      "needs_background": "light"
     },
     "output_type": "display_data"
    }
   ],
   "source": [
    "# Generamos el gráfico solicitado\n",
    "\n",
    "fig = plt.subplots(figsize=(8,5))\n",
    "\n",
    "#kdeplot : función de densidad \n",
    "\n",
    "sns.kdeplot(data = data[data.Dummy2 == 1], # empleamos solo aquellos que hayan terminado la universidad\n",
    "            x = 'lwage',\n",
    "            hue = 'Dummy',\n",
    "            alpha = 0.6,\n",
    "            edgecolor=\"0.1\",\n",
    "            linewidth=1,\n",
    "             fill=True\n",
    "            )\n",
    "\n",
    "# Leyenda\n",
    "plt.legend(labels=['Mujer','Hombre'],  title = \"\", frameon=True, bbox_to_anchor=(1.0, 0.98))\n",
    "plt.title('Logaritmo del salario de quienes terminaron la universidad', size=12)\n",
    "plt.ylabel('Kernel Density')\n",
    "plt.xlabel('')"
   ]
  },
  {
   "cell_type": "markdown",
   "id": "838c980f",
   "metadata": {},
   "source": [
    "# 3) Gráfico Pie"
   ]
  },
  {
   "cell_type": "code",
   "execution_count": 14,
   "id": "a8de770b",
   "metadata": {},
   "outputs": [
    {
     "data": {
      "text/plain": [
       "shs  hsg  scl  clg  ad \n",
       "0.0  0.0  0.0  0.0  1.0     706\n",
       "               1.0  0.0    1636\n",
       "          1.0  0.0  0.0    1432\n",
       "     1.0  0.0  0.0  0.0    1256\n",
       "1.0  0.0  0.0  0.0  0.0     120\n",
       "dtype: int64"
      ]
     },
     "execution_count": 14,
     "metadata": {},
     "output_type": "execute_result"
    }
   ],
   "source": [
    "# Agrupamos las dummies y pedimos su tamaño\n",
    "base = data.groupby(['shs','hsg','scl','clg','ad']).size()\n",
    "base"
   ]
  },
  {
   "cell_type": "code",
   "execution_count": 16,
   "id": "cbc93477",
   "metadata": {},
   "outputs": [
    {
     "data": {
      "image/png": "[encoded data removed]",
      "text/plain": [
       "<Figure size 648x648 with 1 Axes>"
      ]
     },
     "metadata": {},
     "output_type": "display_data"
    }
   ],
   "source": [
    "# Le damos nombres a las partes del gráfico\n",
    "\n",
    "labels=['Secundaria incompleta', 'Secundaria completa' , 'Universidad incompleta', 'Universidad completa', 'Grado educativo avanzado']\n",
    "\n",
    "# Generamos el gráfico pie\n",
    "plt.figure(figsize=(9,9)) # tamaño de gráfico \n",
    "\n",
    "ax = plt.pie(base, labels=labels, autopct='%.1f %%')\n",
    "plt.title('Distribución del porcentaje de personas según nivel educativo')\n",
    "plt.show()"
   ]
  },
  {
   "cell_type": "markdown",
   "id": "be5c07f4",
   "metadata": {},
   "source": [
    "# 4) Diagrama de cajas"
   ]
  },
  {
   "cell_type": "code",
   "execution_count": 17,
   "id": "06232c57",
   "metadata": {},
   "outputs": [],
   "source": [
    "# Planteamos la dummy para mayor nivel educativo (ad)\n",
    "\n",
    "data['Dummy3'] =  np.where(data[\"ad\"] > 0.0 , 1, 0)"
   ]
  },
  {
   "cell_type": "code",
   "execution_count": 18,
   "id": "0f5fbb2c",
   "metadata": {},
   "outputs": [
    {
     "data": {
      "text/plain": [
       "[Text(0, 0, 'Hombre'), Text(1, 0, 'Mujer')]"
      ]
     },
     "execution_count": 18,
     "metadata": {},
     "output_type": "execute_result"
    },
    {
     "data": {
      "image/png": "[encoded data removed]",
      "text/plain": [
       "<Figure size 720x432 with 1 Axes>"
      ]
     },
     "metadata": {
      "needs_background": "light"
     },
     "output_type": "display_data"
    }
   ],
   "source": [
    "# Generamos el gráfico solicitado\n",
    "\n",
    "fig, ax = plt.subplots(figsize=(10,6))\n",
    "\n",
    "# Con la dummy creada, empleamos solamente a aquellos que posean el mayor nivel educativo\n",
    "\n",
    "box = sns.boxplot(data = data[data.Dummy3 == 1], x='sex', y='lwage', palette='rainbow')\n",
    "plt.xlabel('Personas con mayor nivel educativo')\n",
    "plt.ylabel('Logaritmo del salario por hora')\n",
    "(box.set_xticklabels([\"Hombre\", \"Mujer\"])) # etiqueta del eje x "
   ]
  }
 ],
 "metadata": {
  "kernelspec": {
   "display_name": "Python 3 (ipykernel)",
   "language": "python",
   "name": "python3"
  },
  "language_info": {
   "codemirror_mode": {
    "name": "ipython",
    "version": 3
   },
   "file_extension": ".py",
   "mimetype": "text/x-python",
   "name": "python",
   "nbconvert_exporter": "python",
   "pygments_lexer": "ipython3",
   "version": "3.9.12"
  }
 },
 "nbformat": 4,
 "nbformat_minor": 5
}
